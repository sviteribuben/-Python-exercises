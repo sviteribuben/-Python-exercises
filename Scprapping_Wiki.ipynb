{
  "nbformat": 4,
  "nbformat_minor": 0,
  "metadata": {
    "colab": {
      "name": "Scprapping_Wiki.ipynb",
      "provenance": [],
      "collapsed_sections": [],
      "authorship_tag": "ABX9TyPGILMpFvqSwD7KS5Puk1bQ",
      "include_colab_link": true
    },
    "kernelspec": {
      "name": "python3",
      "display_name": "Python 3"
    },
    "language_info": {
      "name": "python"
    }
  },
  "cells": [
    {
      "cell_type": "markdown",
      "metadata": {
        "id": "view-in-github",
        "colab_type": "text"
      },
      "source": [
        "<a href=\"https://colab.research.google.com/github/sviteribuben/-Python-exercises/blob/master/Scprapping_Wiki.ipynb\" target=\"_parent\"><img src=\"https://colab.research.google.com/assets/colab-badge.svg\" alt=\"Open In Colab\"/></a>"
      ]
    },
    {
      "cell_type": "code",
      "metadata": {
        "id": "YuPWE_yAd8LS"
      },
      "source": [
        "import requests\n",
        "from bs4 import BeautifulSoup\n",
        "import json"
      ],
      "execution_count": 95,
      "outputs": []
    },
    {
      "cell_type": "code",
      "metadata": {
        "id": "JjDZUnOxeciC"
      },
      "source": [
        "# source URL\n",
        "url = 'https://en.wikipedia.org/wiki/Category:Geometric_shapes'\n",
        "url2 = 'https://en.wikipedia.org/wiki/Category:20th-century_music_genres'"
      ],
      "execution_count": 35,
      "outputs": []
    },
    {
      "cell_type": "code",
      "metadata": {
        "id": "0Ot3A7K7fP-6"
      },
      "source": [
        "headers = {\n",
        "    \"accept\" : 'application/json; charset=utf-8; profile=\"https://www.mediawiki.org/wiki/Specs/Summary/1.2.0\"',\n",
        "    \"user-agent\" : 'Mozilla/5.0 (Windows NT 10.0; Win64; x64) AppleWebKit/537.36 (KHTML, like Gecko) Chrome/89.0.4389.90 Safari/537.36'\n",
        "}\n",
        "req = requests.get(url2, headers=headers)\n"
      ],
      "execution_count": 37,
      "outputs": []
    },
    {
      "cell_type": "code",
      "metadata": {
        "id": "Ert6RgdgjhoI"
      },
      "source": [
        "req2 = requests.get(url, headers=headers)"
      ],
      "execution_count": 74,
      "outputs": []
    },
    {
      "cell_type": "code",
      "metadata": {
        "id": "spo984olfREa"
      },
      "source": [
        "# check\n",
        "scr = req2.text\n",
        "# print(scr)"
      ],
      "execution_count": 76,
      "outputs": []
    },
    {
      "cell_type": "code",
      "metadata": {
        "colab": {
          "base_uri": "https://localhost:8080/"
        },
        "id": "31y7pPuEdll9",
        "outputId": "05944486-26db-4d2c-d9f1-6747d8dfa23c"
      },
      "source": [
        "soup = BeautifulSoup(scr, 'lxml')\n",
        "all_source_hrefs = soup.find(class_='mw-category').find_all('a')\n",
        "for item in all_source_hrefs:\n",
        "  item_text = item.text.upper()\n",
        "  item_href = 'https://en.wikipedia.org/' + item.get('href')\n",
        "  print(f'{item_text} : {item_href}')"
      ],
      "execution_count": 56,
      "outputs": [
        {
          "output_type": "stream",
          "text": [
            "ACID HOUSE : https://en.wikipedia.org//wiki/Category:Acid_house\n",
            "ACID JAZZ : https://en.wikipedia.org//wiki/Category:Acid_jazz\n",
            "ACID ROCK : https://en.wikipedia.org//wiki/Category:Acid_rock\n",
            "AFRICAN HIP HOP : https://en.wikipedia.org//wiki/Category:African_hip_hop\n",
            "AFRICAN-AMERICAN MUSIC : https://en.wikipedia.org//wiki/Category:African-American_music\n",
            "AFRO-CUBAN JAZZ : https://en.wikipedia.org//wiki/Category:Afro-Cuban_jazz\n",
            "AINU MUSIC : https://en.wikipedia.org//wiki/Category:Ainu_music\n",
            "ALTERNATIVE COUNTRY : https://en.wikipedia.org//wiki/Category:Alternative_country\n",
            "ALTERNATIVE HIP HOP : https://en.wikipedia.org//wiki/Category:Alternative_hip_hop\n",
            "ALTERNATIVE METAL : https://en.wikipedia.org//wiki/Category:Alternative_metal\n",
            "ALTERNATIVE ROCK : https://en.wikipedia.org//wiki/Category:Alternative_rock\n",
            "AMBIENT MUSIC : https://en.wikipedia.org//wiki/Category:Ambient_music\n",
            "AMERICANA MUSIC : https://en.wikipedia.org//wiki/Category:Americana_music\n",
            "ANARCHO-PUNK : https://en.wikipedia.org//wiki/Category:Anarcho-punk\n",
            "ANATOLIAN ROCK : https://en.wikipedia.org//wiki/Category:Anatolian_rock\n",
            "ANSWER SONGS : https://en.wikipedia.org//wiki/Category:Answer_songs\n",
            "ANTHEMS : https://en.wikipedia.org//wiki/Category:Anthems\n",
            "ANTI-FOLK MUSIC : https://en.wikipedia.org//wiki/Category:Anti-folk_music\n",
            "ARMENIAN ROCK MUSIC : https://en.wikipedia.org//wiki/Category:Armenian_rock_music\n",
            "ART ROCK : https://en.wikipedia.org//wiki/Category:Art_rock\n",
            "AUSTRALIAN COUNTRY MUSIC : https://en.wikipedia.org//wiki/Category:Australian_country_music\n",
            "AUSTRALIAN HIP HOP : https://en.wikipedia.org//wiki/Category:Australian_hip_hop\n",
            "AUSTRALIAN JAZZ : https://en.wikipedia.org//wiki/Category:Australian_jazz\n",
            "AVANT-GARDE METAL : https://en.wikipedia.org//wiki/Category:Avant-garde_metal\n",
            "AZERBAIJANI POPULAR MUSIC : https://en.wikipedia.org//wiki/Category:Azerbaijani_popular_music\n",
            "AZERBAIJANI ROCK MUSIC : https://en.wikipedia.org//wiki/Category:Azerbaijani_rock_music\n",
            "BACHATA : https://en.wikipedia.org//wiki/Category:Bachata\n",
            "BAKERSFIELD SOUND : https://en.wikipedia.org//wiki/Category:Bakersfield_sound\n",
            "BANDA MUSIC : https://en.wikipedia.org//wiki/Category:Banda_music\n",
            "BARBERSHOP MUSIC : https://en.wikipedia.org//wiki/Category:Barbershop_music\n",
            "BAROQUE POP : https://en.wikipedia.org//wiki/Category:Baroque_pop\n",
            "BEATBOXING : https://en.wikipedia.org//wiki/Category:Beatboxing\n",
            "BEBOP : https://en.wikipedia.org//wiki/Category:Bebop\n",
            "BHANGRA (MUSIC) : https://en.wikipedia.org//wiki/Category:Bhangra_(music)\n",
            "BIG BEAT : https://en.wikipedia.org//wiki/Category:Big_beat\n",
            "BLACK METAL : https://en.wikipedia.org//wiki/Category:Black_metal\n",
            "BLUEGRASS MUSIC : https://en.wikipedia.org//wiki/Category:Bluegrass_music\n",
            "BLUES : https://en.wikipedia.org//wiki/Category:Blues\n",
            "BLUES ROCK : https://en.wikipedia.org//wiki/Category:Blues_rock\n",
            "BOOGIE (GENRE) : https://en.wikipedia.org//wiki/Category:Boogie_(genre)\n",
            "BOSNIA AND HERZEGOVINA HIP HOP : https://en.wikipedia.org//wiki/Category:Bosnia_and_Herzegovina_hip_hop\n",
            "BOSSA NOVA : https://en.wikipedia.org//wiki/Category:Bossa_nova\n",
            "BOY BANDS : https://en.wikipedia.org//wiki/Category:Boy_bands\n",
            "BRAZILIAN ROCK MUSIC : https://en.wikipedia.org//wiki/Category:Brazilian_rock_music\n",
            "BREAKBEAT : https://en.wikipedia.org//wiki/Category:Breakbeat\n",
            "BREAKCORE : https://en.wikipedia.org//wiki/Category:Breakcore\n",
            "BRITISH HIP HOP : https://en.wikipedia.org//wiki/Category:British_hip_hop\n",
            "BRITPOP : https://en.wikipedia.org//wiki/Category:Britpop\n",
            "BUBBLEGUM POP : https://en.wikipedia.org//wiki/Category:Bubblegum_pop\n",
            "CAJUN MUSIC : https://en.wikipedia.org//wiki/Category:Cajun_music\n",
            "CALIFORNIA SOUND : https://en.wikipedia.org//wiki/Category:California_Sound\n",
            "CALYPSO MUSIC : https://en.wikipedia.org//wiki/Category:Calypso_music\n",
            "CANTATAS : https://en.wikipedia.org//wiki/Category:Cantatas\n",
            "CANTERBURY SCENE : https://en.wikipedia.org//wiki/Category:Canterbury_scene\n",
            "CANTOPOP : https://en.wikipedia.org//wiki/Category:Cantopop\n",
            "CARNATIC MUSIC : https://en.wikipedia.org//wiki/Category:Carnatic_music\n",
            "CATALAN RUMBA : https://en.wikipedia.org//wiki/Category:Catalan_rumba\n",
            "CELTIC FUSION : https://en.wikipedia.org//wiki/Category:Celtic_fusion\n",
            "CELTIC PUNK : https://en.wikipedia.org//wiki/Category:Celtic_punk\n",
            "CELTIC ROCK MUSIC : https://en.wikipedia.org//wiki/Category:Celtic_rock_music\n",
            "CHA-CHA-CHA : https://en.wikipedia.org//wiki/Category:Cha-cha-cha\n",
            "CHAMBER JAZZ : https://en.wikipedia.org//wiki/Category:Chamber_jazz\n",
            "CHAMBER MUSIC : https://en.wikipedia.org//wiki/Category:Chamber_music\n",
            "CHAMBER POP : https://en.wikipedia.org//wiki/Category:Chamber_pop\n",
            "CHICAGO BLUES : https://en.wikipedia.org//wiki/Category:Chicago_blues\n",
            "CHICANO RAP : https://en.wikipedia.org//wiki/Category:Chicano_rap\n",
            "CHICANO ROCK : https://en.wikipedia.org//wiki/Category:Chicano_rock\n",
            "CHILDREN'S MUSIC : https://en.wikipedia.org//wiki/Category:Children%27s_music\n",
            "CHILDREN'S SONGS : https://en.wikipedia.org//wiki/Category:Children%27s_songs\n",
            "CHIPTUNE : https://en.wikipedia.org//wiki/Category:Chiptune\n",
            "CHORO : https://en.wikipedia.org//wiki/Category:Choro\n",
            "CHRISTIAN COUNTRY MUSIC : https://en.wikipedia.org//wiki/Category:Christian_country_music\n",
            "CHRISTIAN HARDCORE : https://en.wikipedia.org//wiki/Category:Christian_hardcore\n",
            "CHRISTIAN HIP HOP : https://en.wikipedia.org//wiki/Category:Christian_hip_hop\n",
            "CHRISTIAN METAL : https://en.wikipedia.org//wiki/Category:Christian_metal\n",
            "CHRISTIAN PUNK : https://en.wikipedia.org//wiki/Category:Christian_punk\n",
            "CHRISTIAN ROCK : https://en.wikipedia.org//wiki/Category:Christian_rock\n",
            "CHUTNEY MUSIC : https://en.wikipedia.org//wiki/Category:Chutney_music\n",
            "20TH-CENTURY CLASSICAL MUSIC : https://en.wikipedia.org//wiki/Category:20th-century_classical_music\n",
            "COLD WAVE (MUSIC) : https://en.wikipedia.org//wiki/Category:Cold_wave_(music)\n",
            "COMEDY ROCK : https://en.wikipedia.org//wiki/Category:Comedy_rock\n",
            "CONTEMPORARY CATHOLIC LITURGICAL MUSIC : https://en.wikipedia.org//wiki/Category:Contemporary_Catholic_liturgical_music\n",
            "CONTEMPORARY CHRISTIAN MUSIC : https://en.wikipedia.org//wiki/Category:Contemporary_Christian_music\n",
            "CONTEMPORARY FOLK MUSIC : https://en.wikipedia.org//wiki/Category:Contemporary_folk_music\n",
            "CONTEMPORARY R&B : https://en.wikipedia.org//wiki/Category:Contemporary_R%26B\n",
            "CONTEMPORARY WORSHIP MUSIC : https://en.wikipedia.org//wiki/Category:Contemporary_worship_music\n",
            "CONTRADANZA : https://en.wikipedia.org//wiki/Category:Contradanza\n",
            "COOL JAZZ : https://en.wikipedia.org//wiki/Category:Cool_jazz\n",
            "COUNTRY BLUES : https://en.wikipedia.org//wiki/Category:Country_blues\n",
            "COUNTRY MUSIC : https://en.wikipedia.org//wiki/Category:Country_music\n",
            "COUNTRY POP : https://en.wikipedia.org//wiki/Category:Country_pop\n",
            "COUNTRY RAP : https://en.wikipedia.org//wiki/Category:Country_rap\n",
            "COUNTRY ROCK : https://en.wikipedia.org//wiki/Category:Country_rock\n",
            "COWPUNK : https://en.wikipedia.org//wiki/Category:Cowpunk\n",
            "CROSSOVER (MUSIC) : https://en.wikipedia.org//wiki/Category:Crossover_(music)\n",
            "CRUNK : https://en.wikipedia.org//wiki/Category:Crunk\n",
            "CRUST AND D-BEAT : https://en.wikipedia.org//wiki/Category:Crust_and_d-beat\n",
            "CUMBIA : https://en.wikipedia.org//wiki/Category:Cumbia\n",
            "CYBERPUNK MUSIC : https://en.wikipedia.org//wiki/Category:Cyberpunk_music\n",
            "CZECH HIP HOP : https://en.wikipedia.org//wiki/Category:Czech_hip_hop\n",
            "DANCE MUSIC : https://en.wikipedia.org//wiki/Category:Dance_music\n",
            "DANCE-POP : https://en.wikipedia.org//wiki/Category:Dance-pop\n",
            "DANCE-PUNK : https://en.wikipedia.org//wiki/Category:Dance-punk\n",
            "DANCE-ROCK : https://en.wikipedia.org//wiki/Category:Dance-rock\n",
            "DANCEHALL : https://en.wikipedia.org//wiki/Category:Dancehall\n",
            "DANGDUT : https://en.wikipedia.org//wiki/Category:Dangdut\n",
            "DANSBAND MUSIC : https://en.wikipedia.org//wiki/Category:Dansband_music\n",
            "DARK AMBIENT : https://en.wikipedia.org//wiki/Category:Dark_ambient\n",
            "DARK WAVE : https://en.wikipedia.org//wiki/Category:Dark_wave\n",
            "DEATH METAL : https://en.wikipedia.org//wiki/Category:Death_metal\n",
            "DEATHROCK : https://en.wikipedia.org//wiki/Category:Deathrock\n",
            "DELTA BLUES : https://en.wikipedia.org//wiki/Category:Delta_blues\n",
            "DETROIT TECHNO : https://en.wikipedia.org//wiki/Category:Detroit_techno\n",
            "DEUTSCHPUNK : https://en.wikipedia.org//wiki/Category:Deutschpunk\n",
            "DISCO : https://en.wikipedia.org//wiki/Category:Disco\n",
            "DISS TRACKS : https://en.wikipedia.org//wiki/Category:Diss_tracks\n",
            "DIXIELAND : https://en.wikipedia.org//wiki/Category:Dixieland\n",
            "DRUM AND BASS : https://en.wikipedia.org//wiki/Category:Drum_and_bass\n",
            "EASY LISTENING MUSIC : https://en.wikipedia.org//wiki/Category:Easy_listening_music\n",
            "EMO : https://en.wikipedia.org//wiki/Category:Emo\n",
            "FOLK MUSIC : https://en.wikipedia.org//wiki/Category:Folk_music\n",
            "FOLK ROCK : https://en.wikipedia.org//wiki/Category:Folk_rock\n",
            "GARAGE ROCK : https://en.wikipedia.org//wiki/Category:Garage_rock\n",
            "HOKKIEN POP : https://en.wikipedia.org//wiki/Category:Hokkien_pop\n",
            "ICELANDIC HIP HOP : https://en.wikipedia.org//wiki/Category:Icelandic_hip_hop\n",
            "INDIE POP : https://en.wikipedia.org//wiki/Category:Indie_pop\n",
            "INDIE ROCK : https://en.wikipedia.org//wiki/Category:Indie_rock\n",
            "INDUSTRIAL METAL : https://en.wikipedia.org//wiki/Category:Industrial_metal\n",
            "IRISH HIP HOP : https://en.wikipedia.org//wiki/Category:Irish_hip_hop\n",
            "K-POP : https://en.wikipedia.org//wiki/Category:K-pop\n",
            "KRAUTROCK : https://en.wikipedia.org//wiki/Category:Krautrock\n",
            "NOISE MUSIC : https://en.wikipedia.org//wiki/Category:Noise_music\n",
            "NOISE POP : https://en.wikipedia.org//wiki/Category:Noise_pop\n",
            "ODISSI MUSIC : https://en.wikipedia.org//wiki/Category:Odissi_music\n",
            "POWER POP : https://en.wikipedia.org//wiki/Category:Power_pop\n",
            "PROGRESSIVE HOUSE : https://en.wikipedia.org//wiki/Category:Progressive_house\n",
            "PROGRESSIVE MUSIC : https://en.wikipedia.org//wiki/Category:Progressive_music\n",
            "PROTO-PROG : https://en.wikipedia.org//wiki/Category:Proto-prog\n",
            "PSYCHEDELIC MUSIC : https://en.wikipedia.org//wiki/Category:Psychedelic_music\n",
            "PUNK ROCK : https://en.wikipedia.org//wiki/Category:Punk_rock\n",
            "SUNSHINE POP : https://en.wikipedia.org//wiki/Category:Sunshine_pop\n",
            "TECHNO : https://en.wikipedia.org//wiki/Category:Techno\n"
          ],
          "name": "stdout"
        }
      ]
    },
    {
      "cell_type": "code",
      "metadata": {
        "id": "EdVdNR1-h2Is"
      },
      "source": [
        "# save source page to local file\n",
        "with open('index.html', 'w') as file:\n",
        "  file.write(scr)"
      ],
      "execution_count": 82,
      "outputs": []
    },
    {
      "cell_type": "markdown",
      "metadata": {
        "id": "wji6oBcKqMdn"
      },
      "source": [
        "NEXT we'll working with local html file "
      ]
    },
    {
      "cell_type": "code",
      "metadata": {
        "id": "GKUiBiQ4pffZ"
      },
      "source": [
        "# reading file\n",
        "with open('index.html') as file:\n",
        "  scr = file.read()"
      ],
      "execution_count": 83,
      "outputs": []
    },
    {
      "cell_type": "code",
      "metadata": {
        "id": "D2MQ1JVop-R3"
      },
      "source": [
        "soup = BeautifulSoup(scr, 'lxml')"
      ],
      "execution_count": 84,
      "outputs": []
    },
    {
      "cell_type": "code",
      "metadata": {
        "id": "cD1PzR89qJlm"
      },
      "source": [
        "all_source_hrefs = soup.find(class_='mw-category-generated').find_all('a')"
      ],
      "execution_count": 92,
      "outputs": []
    },
    {
      "cell_type": "code",
      "metadata": {
        "id": "pjn0m5Rk6ElO"
      },
      "source": [
        "# create dict\n",
        "all_wiki_categories={}\n",
        "for item in all_source_hrefs:\n",
        "  item_text = item.text.upper()\n",
        "  item_href = 'https://en.wikipedia.org/' + item.get('href')\n",
        "  all_wiki_categories[item_text] = item_href\n",
        "\n",
        "with open('all_wiki_categories.json', 'w') as file:\n",
        "  json.dump(all_wiki_categories, file, indent=4, ensure_ascii=False)\n",
        "\n",
        "# indent - отступ"
      ],
      "execution_count": 97,
      "outputs": []
    },
    {
      "cell_type": "code",
      "metadata": {
        "id": "MuQ1jzoGcnWo"
      },
      "source": [
        "with open('all_wiki_categories.json') as file:\n",
        "  all_categories = json.load(file)"
      ],
      "execution_count": 102,
      "outputs": []
    },
    {
      "cell_type": "code",
      "metadata": {
        "id": "nDXK8Opbq8_r"
      },
      "source": [
        "for item in all_categories:\n",
        "  print(item)"
      ],
      "execution_count": null,
      "outputs": []
    },
    {
      "cell_type": "code",
      "metadata": {
        "id": "_IKBSXQFpoKT"
      },
      "source": [
        "# delite spaces between words\n",
        "count = 0\n",
        "for category_name, category_href in all_categories.items():\n",
        "  # if count == 0:\n",
        "  rep = [',', ' ', \"'\", \"-\", \" \"]\n",
        "  for item in rep:\n",
        "    if item in category_name:\n",
        "      category_name = category_name.replace(item, \"_\")\n",
        "  # requests to the pages\n",
        "  r = requests.get(url=category_href, headers=headers)\n",
        "  src = r.text\n",
        "  with open(f'data/{count}{category_name}.html', 'w') as file:\n",
        "    file.write(src)\n",
        "\n",
        "  # save to variable\n",
        "  with open(f'data/{count}{category_name}.html') as file:\n",
        "    src = file.read()\n",
        "\n",
        "  soup = BeautifulSoup(src, 'lxml')  \n",
        "  count += 1"
      ],
      "execution_count": 111,
      "outputs": []
    },
    {
      "cell_type": "code",
      "metadata": {
        "id": "MSShmyRuqptk"
      },
      "source": [
        ""
      ],
      "execution_count": null,
      "outputs": []
    }
  ]
}