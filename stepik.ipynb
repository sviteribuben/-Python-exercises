{
  "nbformat": 4,
  "nbformat_minor": 0,
  "metadata": {
    "colab": {
      "name": "stepik.ipynb",
      "provenance": [],
      "collapsed_sections": [],
      "authorship_tag": "ABX9TyPNdqmdRCR3GoGkcAA1lu9I",
      "include_colab_link": true
    },
    "kernelspec": {
      "name": "python3",
      "display_name": "Python 3"
    }
  },
  "cells": [
    {
      "cell_type": "markdown",
      "metadata": {
        "id": "view-in-github",
        "colab_type": "text"
      },
      "source": [
        "<a href=\"https://colab.research.google.com/github/sviteribuben/-Python-exercises/blob/master/stepik.ipynb\" target=\"_parent\"><img src=\"https://colab.research.google.com/assets/colab-badge.svg\" alt=\"Open In Colab\"/></a>"
      ]
    },
    {
      "cell_type": "code",
      "metadata": {
        "id": "rg48q6ULDhKz",
        "colab": {
          "base_uri": "https://localhost:8080/"
        },
        "outputId": "ca773278-7c0c-4d3e-fe9c-6aea5f64bb7d"
      },
      "source": [
        "11111 * 1111111\n"
      ],
      "execution_count": null,
      "outputs": [
        {
          "output_type": "execute_result",
          "data": {
            "text/plain": [
              "12345554321"
            ]
          },
          "metadata": {
            "tags": []
          },
          "execution_count": 1
        }
      ]
    },
    {
      "cell_type": "code",
      "metadata": {
        "id": "zK_2JxetDmV9",
        "colab": {
          "base_uri": "https://localhost:8080/"
        },
        "outputId": "5b8132ab-5109-455c-a2c0-5c8887a6604d"
      },
      "source": [
        "2014**14"
      ],
      "execution_count": null,
      "outputs": [
        {
          "output_type": "execute_result",
          "data": {
            "text/plain": [
              "18064773765607550801425251468864907833685590016"
            ]
          },
          "metadata": {
            "tags": []
          },
          "execution_count": 3
        }
      ]
    },
    {
      "cell_type": "code",
      "metadata": {
        "id": "S52Z6lANEMjS",
        "colab": {
          "base_uri": "https://localhost:8080/"
        },
        "outputId": "38a7eb3c-6d92-4ef7-9d00-5f58b4a499a0"
      },
      "source": [
        "1.2345e-3"
      ],
      "execution_count": null,
      "outputs": [
        {
          "output_type": "execute_result",
          "data": {
            "text/plain": [
              "0.0012345"
            ]
          },
          "metadata": {
            "tags": []
          },
          "execution_count": 4
        }
      ]
    },
    {
      "cell_type": "code",
      "metadata": {
        "id": "nZ3ze57KFolR",
        "colab": {
          "base_uri": "https://localhost:8080/"
        },
        "outputId": "6a074fed-f533-4fe0-961f-c8c7b6ee2495"
      },
      "source": [
        "2014.0**14"
      ],
      "execution_count": null,
      "outputs": [
        {
          "output_type": "execute_result",
          "data": {
            "text/plain": [
              "1.806477376560755e+46"
            ]
          },
          "metadata": {
            "tags": []
          },
          "execution_count": 5
        }
      ]
    },
    {
      "cell_type": "code",
      "metadata": {
        "id": "YPT8ZjkKFugR",
        "colab": {
          "base_uri": "https://localhost:8080/"
        },
        "outputId": "390bec06-c4e9-40ac-ba81-86e793e413e8"
      },
      "source": [
        "7/3"
      ],
      "execution_count": null,
      "outputs": [
        {
          "output_type": "execute_result",
          "data": {
            "text/plain": [
              "2.3333333333333335"
            ]
          },
          "metadata": {
            "tags": []
          },
          "execution_count": 6
        }
      ]
    },
    {
      "cell_type": "code",
      "metadata": {
        "id": "UWBAcw5vFzdR",
        "colab": {
          "base_uri": "https://localhost:8080/"
        },
        "outputId": "cbf4d61f-15bd-4cec-d06a-9918d0990077"
      },
      "source": [
        "7//3"
      ],
      "execution_count": null,
      "outputs": [
        {
          "output_type": "execute_result",
          "data": {
            "text/plain": [
              "2"
            ]
          },
          "metadata": {
            "tags": []
          },
          "execution_count": 7
        }
      ]
    },
    {
      "cell_type": "code",
      "metadata": {
        "id": "mZDJQdLEF3Pg",
        "colab": {
          "base_uri": "https://localhost:8080/"
        },
        "outputId": "6e12d2e6-6dc6-40a8-946c-8fadb89b5385"
      },
      "source": [
        "9**19 - int(float(9**19))"
      ],
      "execution_count": null,
      "outputs": [
        {
          "output_type": "execute_result",
          "data": {
            "text/plain": [
              "89"
            ]
          },
          "metadata": {
            "tags": []
          },
          "execution_count": 8
        }
      ]
    },
    {
      "cell_type": "code",
      "metadata": {
        "id": "_vHrOoQIGF8J",
        "colab": {
          "base_uri": "https://localhost:8080/"
        },
        "outputId": "f1326942-8887-42e0-9da4-74482a49c88e"
      },
      "source": [
        "1//60"
      ],
      "execution_count": null,
      "outputs": [
        {
          "output_type": "execute_result",
          "data": {
            "text/plain": [
              "0"
            ]
          },
          "metadata": {
            "tags": []
          },
          "execution_count": 18
        }
      ]
    },
    {
      "cell_type": "code",
      "metadata": {
        "id": "uBAtuKAZJrlY",
        "colab": {
          "base_uri": "https://localhost:8080/"
        },
        "outputId": "62d631fb-36a1-4dc7-c751-6c665098d6d4"
      },
      "source": [
        "x = int(input())\n",
        "h = int(input())\n",
        "m = int(input())\n",
        "\n",
        "hours = (x + h*60 + m)//60\n",
        "# mins \n",
        "\n",
        "print((x + h*60 + m)//60)\n",
        "print((x + h*60 + m)%60)"
      ],
      "execution_count": null,
      "outputs": [
        {
          "output_type": "stream",
          "text": [
            "480\n",
            "1\n",
            "2\n",
            "9\n",
            "2\n"
          ],
          "name": "stdout"
        }
      ]
    },
    {
      "cell_type": "code",
      "metadata": {
        "id": "PUAH4BkdKEsQ",
        "colab": {
          "base_uri": "https://localhost:8080/"
        },
        "outputId": "e30626b5-eeff-4f2d-82ce-6dd065988557"
      },
      "source": [
        "X = int(input()) + int(input()) * 60 + int(input())\n",
        "print (X // 60,'\\n',X % 60, sep='')"
      ],
      "execution_count": null,
      "outputs": [
        {
          "output_type": "stream",
          "text": [
            "480\n",
            "1\n",
            "2\n",
            "9\n",
            "2\n"
          ],
          "name": "stdout"
        }
      ]
    },
    {
      "cell_type": "code",
      "metadata": {
        "id": "ii98I-UbNHlp",
        "colab": {
          "base_uri": "https://localhost:8080/"
        },
        "outputId": "21bdebcf-a8b5-4f7c-d74d-6cdf56078c37"
      },
      "source": [
        "x = 5\n",
        "y = 10\n",
        "y > x * x or y >= 2 * x and x < y"
      ],
      "execution_count": null,
      "outputs": [
        {
          "output_type": "execute_result",
          "data": {
            "text/plain": [
              "True"
            ]
          },
          "metadata": {
            "tags": []
          },
          "execution_count": 27
        }
      ]
    },
    {
      "cell_type": "code",
      "metadata": {
        "id": "18K22eQhN8Nn",
        "colab": {
          "base_uri": "https://localhost:8080/"
        },
        "outputId": "7baff8d2-f7e7-447a-cdf1-22b366a227b1"
      },
      "source": [
        "a = True\n",
        "b = False\n",
        "a and b or not a and not b"
      ],
      "execution_count": null,
      "outputs": [
        {
          "output_type": "execute_result",
          "data": {
            "text/plain": [
              "False"
            ]
          },
          "metadata": {
            "tags": []
          },
          "execution_count": 28
        }
      ]
    },
    {
      "cell_type": "code",
      "metadata": {
        "id": "qFQNKXElRnqi",
        "colab": {
          "base_uri": "https://localhost:8080/"
        },
        "outputId": "eef31cbe-bddc-45c3-c364-82102ea95563"
      },
      "source": [
        "# Из передачи “Здоровье” Аня узнала, что рекомендуется спать хотя бы AA \n",
        "# часов в сутки, но пересыпать тоже вредно и не стоит спать более BB часов. \n",
        "# Сейчас Аня спит HH часов в сутки. Если режим сна Ани удовлетворяет \n",
        "# рекомендациям передачи “Здоровье”, выведите “Это нормально”. \n",
        "# Если Аня спит менее AA часов, выведите “Недосып”, если же более BB часов, \n",
        "# то выведите “Пересып”.Получаемое число AA всегда меньше либо равно BB.\n",
        "# На вход программе в три строки подаются переменные в следующем порядке: AA, BB, HH.\n",
        "# Обратите внимание на регистр символов: вывод должен в точности соответствовать \n",
        "# описанному в задании, т. е. если программа должна вывести \"Пересып\", выводы программы\n",
        "#  \"пересып\", \"ПЕРЕСЫП\", \"ПеРеСыП\" и другие не будут считаться верными.\n",
        "# Это первое не самое тривиальное задание на условное выражение. В случаях, когда разбить \n",
        "# исполнение программы на несколько направлений, стоит внимательно обдумать все условия,\n",
        "#  которые нужно использовать. Особое внимание стоит уделить строгости используемых\n",
        "#   условных операторов: различайте \\lt< и \\le≤; \\gt> и \\ge≥. Для того, чтобы понимать,\n",
        "#    какой из них стоит использовать, внимательно прочитайте условие задания.\n",
        "\n",
        "a = int(input())\n",
        "b = int(input())\n",
        "h = int(input())\n",
        "\n",
        "if a <= h <= b:\n",
        "  print('Это нормально')\n",
        "elif h < a:\n",
        "  print('Недосып')\n",
        "else:\n",
        "  print('Пересып')\n",
        "\n",
        "\n",
        "\n",
        "# a = int(input())\n",
        "# b = int(input())\n",
        "# x = int(input())\n",
        "# print((\"Недосып\", \"Это нормально\", \"Пересып\")[(x > b) - (x < a) + 1])"
      ],
      "execution_count": null,
      "outputs": [
        {
          "output_type": "stream",
          "text": [
            "7\n",
            "9\n",
            "2\n",
            "Недосып\n"
          ],
          "name": "stdout"
        }
      ]
    },
    {
      "cell_type": "code",
      "metadata": {
        "id": "35mZ2V6jWCTn",
        "colab": {
          "base_uri": "https://localhost:8080/"
        },
        "outputId": "41cb02fc-103c-4333-dc50-072033699596"
      },
      "source": [
        "2100 % 400"
      ],
      "execution_count": null,
      "outputs": [
        {
          "output_type": "execute_result",
          "data": {
            "text/plain": [
              "100"
            ]
          },
          "metadata": {
            "tags": []
          },
          "execution_count": 36
        }
      ]
    },
    {
      "cell_type": "code",
      "metadata": {
        "id": "PFfyEcVkUgv_",
        "colab": {
          "base_uri": "https://localhost:8080/"
        },
        "outputId": "957e03a9-a359-41e7-88ef-a3a664a1e879"
      },
      "source": [
        "year = int(input())\n",
        "\n",
        "if (year % 4 == 0) & (year % 400 == 0):\n",
        "  print('Вис')\n",
        "else:\n",
        "  print('same')"
      ],
      "execution_count": null,
      "outputs": [
        {
          "output_type": "stream",
          "text": [
            "2100\n",
            "same\n"
          ],
          "name": "stdout"
        }
      ]
    },
    {
      "cell_type": "code",
      "metadata": {
        "id": "DXIPskelWpY7",
        "colab": {
          "base_uri": "https://localhost:8080/"
        },
        "outputId": "0dffc468-5f21-4421-f84c-55434fd39df3"
      },
      "source": [
        "\"239\" > \"30\" and 239 > 30"
      ],
      "execution_count": null,
      "outputs": [
        {
          "output_type": "execute_result",
          "data": {
            "text/plain": [
              "False"
            ]
          },
          "metadata": {
            "tags": []
          },
          "execution_count": 4
        }
      ]
    },
    {
      "cell_type": "code",
      "metadata": {
        "id": "AVdz5jXKx3rz",
        "colab": {
          "base_uri": "https://localhost:8080/",
          "height": 35
        },
        "outputId": "8da01715-4847-408e-d2a3-8002a5979d5f"
      },
      "source": [
        "\"123\" + \"42\""
      ],
      "execution_count": null,
      "outputs": [
        {
          "output_type": "execute_result",
          "data": {
            "application/vnd.google.colaboratory.intrinsic+json": {
              "type": "string"
            },
            "text/plain": [
              "'12342'"
            ]
          },
          "metadata": {
            "tags": []
          },
          "execution_count": 5
        }
      ]
    },
    {
      "cell_type": "code",
      "metadata": {
        "id": "aFuAmmuDzHv5",
        "colab": {
          "base_uri": "https://localhost:8080/"
        },
        "outputId": "6d1e0053-a1ae-44e9-f704-e320c1ec9389"
      },
      "source": [
        "a = int(input())\n",
        "b = int(input())\n",
        "c = int(input())\n",
        "\n",
        "p = (a + b + c) / 2\n",
        "s = (p*(p-a)*(p-b)*(p-c))**0.5\n",
        "\n",
        "print(s)\n",
        "\n",
        "\n",
        "# def geron(a,b,c):\n",
        "#     p = (a + b + c) / 2\n",
        "#     return (p * (p - a) * (p - b) * (p - c)) ** 0.5\n",
        "\n",
        "# print(geron(*[float(input()) for i in range(3)]))"
      ],
      "execution_count": null,
      "outputs": [
        {
          "output_type": "stream",
          "text": [
            "3\n",
            "4\n",
            "5\n",
            "6.0\n"
          ],
          "name": "stdout"
        }
      ]
    },
    {
      "cell_type": "code",
      "metadata": {
        "id": "VQQTXkj10U8R",
        "colab": {
          "base_uri": "https://localhost:8080/"
        },
        "outputId": "f5522c1b-63d1-4abf-d9c4-50ccc52ddd2f"
      },
      "source": [
        "num = int(input())\n",
        "\n",
        "if -15 < num <= 12:\n",
        "  print(True)\n",
        "elif 14 < num < 17:\n",
        "  print(True)\n",
        "elif 19 <= num:\n",
        "  print(True)\n",
        "else:\n",
        "  print(False)\n",
        "\n",
        "\n",
        "# n = int(input())\n",
        "# print(-15 < n <= 12 or 14 < n < 17 or 19 <= n)"
      ],
      "execution_count": null,
      "outputs": [
        {
          "output_type": "stream",
          "text": [
            "-20\n",
            "False\n"
          ],
          "name": "stdout"
        }
      ]
    },
    {
      "cell_type": "markdown",
      "metadata": {
        "id": "MMObXMuI6kzc"
      },
      "source": [
        "Напишите простой калькулятор, который считывает с пользовательского ввода три строки: первое число, второе число и операцию, после чего применяет операцию к введённым числам (\"первое число\" \"операция\" \"второе число\") и выводит результат на экран.\n",
        "\n",
        "Поддерживаемые операции: +, -, /, *, mod, pow, div, где\n",
        "mod — это взятие остатка от деления,\n",
        "pow — возведение в степень,\n",
        "div — целочисленное деление.\n",
        "\n",
        "Если выполняется деление и второе число равно 0, необходимо выводить строку \"Деление на 0!\".\n",
        "\n",
        "Обратите внимание, что на вход программе приходят вещественные числа."
      ]
    },
    {
      "cell_type": "code",
      "metadata": {
        "id": "vKnzf8-P4twj",
        "colab": {
          "base_uri": "https://localhost:8080/"
        },
        "outputId": "33a19b4c-bf44-49b7-d516-9666fc04a216"
      },
      "source": [
        "number_1 = float(input())\n",
        "number_2 = float(input())\n",
        "action = input()\n",
        "\n",
        "if action == '+':\n",
        "  print(number_1 + number_2)\n",
        "elif action == '-':\n",
        "  print(number_1 - number_2)\n",
        "elif action == '*':\n",
        "  print(number_1 * number_2)\n",
        "elif action == '/':\n",
        "  if number_2 != 0:\n",
        "    print(number_1 / number_2)\n",
        "  else:\n",
        "    print('Деление на 0!')\n",
        "elif action == 'mod':\n",
        "  if number_2 != 0:\n",
        "    print(number_1 % number_2)\n",
        "  else:\n",
        "    print('Деление на 0!')\n",
        "elif action == 'pow':\n",
        "  print(number_1 ** number_2)\n",
        "elif action == 'div':\n",
        "  if number_2 != 0:\n",
        "    print(number_1 // number_2)\n",
        "  else:\n",
        "    print('Деление на 0!')\n",
        "\n",
        "\n",
        "\n",
        "# a = float(input())\n",
        "# b = float(input())\n",
        "# op = input()\n",
        "# if(b == 0 and (op == \"mod\" or op == \"/\" or op == \"div\")):\n",
        "#     print(\"Деление на 0!\")\n",
        "# elif(op == '+'):\n",
        "#     print(a + b)\n",
        "# elif(op == '-'):\n",
        "#     print(a - b)\n",
        "# elif(op == '*'):\n",
        "#     print(a * b)\n",
        "# elif(op == '/'):\n",
        "#     print(a / b)\n",
        "# elif(op == 'mod'):\n",
        "#     print(a % b)\n",
        "# elif(op == 'pow'):\n",
        "#     print(a ** b)\n",
        "# elif(op == 'div'):\n",
        "#     print(a // b)\n",
        "# else: print(\"Unknown operator\")"
      ],
      "execution_count": null,
      "outputs": [
        {
          "output_type": "stream",
          "text": [
            "5\n",
            "10\n",
            "/\n",
            "0.5\n"
          ],
          "name": "stdout"
        }
      ]
    },
    {
      "cell_type": "code",
      "metadata": {
        "id": "Eiu4EKvf79rp"
      },
      "source": [
        "# first = float(input())\n",
        "# second = float(input())\n",
        "# action = input()\n",
        "# operations = {\"mod\": \"%\", \"div\": \"//\", \"pow\": \"**\"}\n",
        "# try:\n",
        "#     print(eval(\"(\" + str(first) + \")\" + operations.get(action, action) + str(second)))\n",
        "# except ZeroDivisionError:\n",
        "#     print('Деление на 0!')\n",
        "\n",
        "\n",
        "\n",
        "# operations = {\n",
        "#       \"+\": lambda x, y: x + y,\n",
        "#       \"-\": lambda x, y: x - y,\n",
        "#       \"/\": lambda x, y: x / y,\n",
        "#       \"*\": lambda x, y: x * y,\n",
        "#       \"mod\": lambda x, y: x % y,\n",
        "#       \"pow\": lambda x, y: x ** y,\n",
        "#       \"div\": lambda x, y: x // y\n",
        "# }\n",
        "\n",
        "# x, y = float(input()), float(input())\n",
        "# operation = input()\n",
        "\n",
        "# if operation in [\"mod\", \"div\", \"/\"] and y == 0:\n",
        "#     print(\"Деление на 0!\")\n",
        "# else:\n",
        "#     print(operations[operation](x, y))"
      ],
      "execution_count": null,
      "outputs": []
    },
    {
      "cell_type": "code",
      "metadata": {
        "id": "w1w8Bjp1BL0e",
        "colab": {
          "base_uri": "https://localhost:8080/"
        },
        "outputId": "cfff1729-b789-48d3-f16a-587abec48102"
      },
      "source": [
        "x = input()\n",
        "if x == 'треугольник':\n",
        "  a = int(input())\n",
        "  b = int(input())\n",
        "  c = int(input())\n",
        "  p = (a + b + c) / 2\n",
        "  print((p*(p-a)*(p-b)*(p-c))**0.5)\n",
        "elif x == 'прямоугольник':\n",
        "    a = int(input())\n",
        "    b = int(input())\n",
        "    print(a*b)\n",
        "elif x == 'круг':\n",
        "    r = int(input())\n",
        "    print(3.14 * r ** 2)\n",
        "else:\n",
        "  print('треугольник, прямоугольник, круг')\n",
        "\n",
        "\n",
        "#   PI = 3.14\n",
        "\n",
        "# type = input()\n",
        "# if (type == 'круг'):\n",
        "#     print(PI*int(input())**2)\n",
        "# elif (type == 'прямоугольник'):\n",
        "#     print(int(input())*int(input()))\n",
        "# elif (type == 'треугольник'):\n",
        "#     a,b,c = int(input()),int(input()),int(input())\n",
        "#     p = (a + b + c)/2\n",
        "#     print((p * (p - a) * (p - b) * (p - c))**0.5)\n",
        "\n",
        "\n",
        "\n",
        "# room= input()\n",
        "# if room == 'треугольник':\n",
        "#     a,b,c = int(input ()), int(input ()), int(input ())\n",
        "#     p=(a+b+c)/2\n",
        "#     print((p*(p-a)*(p-b)*(p-c))**0.5)\n",
        "# if room == 'прямоугольник':\n",
        "#     a,b = int(input ()), int(input ())\n",
        "#     print(a*b)\n",
        "# if room == 'круг':\n",
        "#     r = int(input ())\n",
        "#     print(3.14*(r**2))\n"
      ],
      "execution_count": null,
      "outputs": [
        {
          "output_type": "stream",
          "text": [
            "пися\n",
            "треугольник, прямоугольник, круг\n"
          ],
          "name": "stdout"
        }
      ]
    },
    {
      "cell_type": "markdown",
      "metadata": {
        "id": "5YeYJ4ehWdex"
      },
      "source": [
        "Напишите программу, которая получает на вход три целых числа, по одному числу в строке, и выводит на консоль в три строки сначала максимальное, потом минимальное, после чего оставшееся число.\n",
        "\n",
        "На ввод могут подаваться и повторяющиеся числа."
      ]
    },
    {
      "cell_type": "code",
      "metadata": {
        "id": "luuZNHWtS9j_"
      },
      "source": [
        "a,b,c = int(input()), int(input()), int(input())\n",
        "\n",
        "if a < b:\n",
        "\ta, b = b, a\n",
        "if a < c:\n",
        "\ta, c = c, a\n",
        "if b > c:\n",
        "\tb, c = c, b\n",
        "print(a)\n",
        "print(b)\n",
        "print(c)\n",
        "\n",
        "\n",
        "a, b, c = int(input()), int(input()), int(input())\n",
        "max_int = max(a, b, c)\n",
        "min_int = min(a, b, c)\n",
        "print(max_int)\n",
        "print(min_int)\n",
        "print((a + b + c) - max_int - min_int)\n",
        "\n",
        "\n",
        "x=sorted([int(input()),int(input()),int(input())])\n",
        "print (x[2], x[0], x[1], sep=\"\\n\")"
      ],
      "execution_count": null,
      "outputs": []
    },
    {
      "cell_type": "code",
      "metadata": {
        "id": "h1zD8d3oWpfn",
        "colab": {
          "base_uri": "https://localhost:8080/"
        },
        "outputId": "4e960f00-b21a-4e0e-aa01-966a6fc0f9b5"
      },
      "source": [
        "s = int (input())\n",
        "n1 = \" программистов\"\n",
        "n2 = \" программист\"\n",
        "n3 = \" программиста\"\n",
        "if s>=0:\n",
        "  if s==0:\n",
        "    print(str(s) + n1)\n",
        "  elif s%100>=10 and s%100<=20:\n",
        "    print(str(s) + n1)\n",
        "  elif s%10==1:\n",
        "    print(str(s) + n2)\n",
        "  elif s%10>=2 and s%10<=4:\n",
        "    print(str(s) + n3)\n",
        "  else:\n",
        "    print(str(s) + n1)\n",
        "\n",
        "\n",
        "# n=int(input())\n",
        "# print(n,'программист'+('ов' if n%10==0 or 4<n%10<10 or 10<n%100<15 else 'а' if 1<n%10<5 else ''))\n"
      ],
      "execution_count": null,
      "outputs": [
        {
          "output_type": "stream",
          "text": [
            "1\n",
            "1 программист\n"
          ],
          "name": "stdout"
        }
      ]
    },
    {
      "cell_type": "code",
      "metadata": {
        "id": "egEfsBwLaWvH",
        "colab": {
          "base_uri": "https://localhost:8080/"
        },
        "outputId": "8f35938f-e2ee-4af1-b0d3-f4706e4ad1b5"
      },
      "source": [
        "a = input()\n",
        "if (int(a[0]) + int(a[1]) + int(a[2])) == (int(a[3]) + int(a[4]) + int(a[5])):\n",
        "  print('Счастливый')\n",
        "else:\n",
        "  print('Обычный')\n"
      ],
      "execution_count": null,
      "outputs": [
        {
          "output_type": "stream",
          "text": [
            "123600\n",
            "Счастливый\n"
          ],
          "name": "stdout"
        }
      ]
    },
    {
      "cell_type": "code",
      "metadata": {
        "id": "2y-GuoYdeLUx",
        "colab": {
          "base_uri": "https://localhost:8080/"
        },
        "outputId": "13ea2724-0b7b-4d51-e71b-6b03608ebb18"
      },
      "source": [
        "i = 0\n",
        "while i <= 10:\n",
        "    i = i + 1\n",
        "    if i > 7:\n",
        "        i = i + 2\n",
        "\n",
        "print(i)"
      ],
      "execution_count": null,
      "outputs": [
        {
          "output_type": "stream",
          "text": [
            "13\n"
          ],
          "name": "stdout"
        }
      ]
    },
    {
      "cell_type": "code",
      "metadata": {
        "id": "c4mxLuLRm2Yt",
        "colab": {
          "base_uri": "https://localhost:8080/"
        },
        "outputId": "513e55cf-65e6-41e0-e0b6-78e8fc167f76"
      },
      "source": [
        "i = 0\n",
        "while i < 5:\n",
        "    print('*')\n",
        "    if i % 2 == 0:\n",
        "        print('**')\n",
        "    if i > 2:\n",
        "        print('***')\n",
        "    i = i + 1"
      ],
      "execution_count": null,
      "outputs": [
        {
          "output_type": "stream",
          "text": [
            "*\n",
            "**\n",
            "*\n",
            "*\n",
            "**\n",
            "*\n",
            "***\n",
            "*\n",
            "**\n",
            "***\n"
          ],
          "name": "stdout"
        }
      ]
    },
    {
      "cell_type": "code",
      "metadata": {
        "id": "yVbTbVxOLBDx",
        "colab": {
          "base_uri": "https://localhost:8080/"
        },
        "outputId": "16f80b83-304b-4064-a0b9-e2ba8abd613d"
      },
      "source": [
        "a = int(input())\n",
        "s = 0\n",
        "i = a\n",
        "while a == 0:\n",
        "  s += i\n",
        "  print(s)\n"
      ],
      "execution_count": null,
      "outputs": [
        {
          "output_type": "stream",
          "text": [
            "5\n"
          ],
          "name": "stdout"
        }
      ]
    },
    {
      "cell_type": "code",
      "metadata": {
        "id": "bWq5qI9eL3ho",
        "colab": {
          "base_uri": "https://localhost:8080/"
        },
        "outputId": "f6c510d5-f317-48db-9ac3-be34044a9702"
      },
      "source": [
        "x = [[0]]\n",
        "x = x + x * 2\n",
        "x[0].append(1)\n",
        "print(x)"
      ],
      "execution_count": null,
      "outputs": [
        {
          "output_type": "stream",
          "text": [
            "[[0, 1], [0, 1], [0, 1]]\n"
          ],
          "name": "stdout"
        }
      ]
    },
    {
      "cell_type": "code",
      "metadata": {
        "id": "dqCEQqWzFxan",
        "colab": {
          "base_uri": "https://localhost:8080/"
        },
        "outputId": "0eb5a90b-dbdc-4384-e094-1177ec96d32a"
      },
      "source": [
        "class A:\n",
        "    def __repr__(self):\n",
        "        return \"repr\"\n",
        "    def __str__(self):\n",
        "        return \"str\"\n",
        "a = A()\n",
        "print(a, repr(a), str(a))"
      ],
      "execution_count": null,
      "outputs": [
        {
          "output_type": "stream",
          "text": [
            "str repr str\n"
          ],
          "name": "stdout"
        }
      ]
    },
    {
      "cell_type": "code",
      "metadata": {
        "id": "KlSXK784HLfO",
        "colab": {
          "base_uri": "https://localhost:8080/"
        },
        "outputId": "e23c2fa5-0755-4cb5-a2dc-6e5b0165a468"
      },
      "source": [
        "ord('5') - ord('2')"
      ],
      "execution_count": null,
      "outputs": [
        {
          "output_type": "execute_result",
          "data": {
            "text/plain": [
              "3"
            ]
          },
          "metadata": {
            "tags": []
          },
          "execution_count": 3
        }
      ]
    },
    {
      "cell_type": "code",
      "metadata": {
        "id": "8RmFrlW4HTal",
        "colab": {
          "base_uri": "https://localhost:8080/"
        },
        "outputId": "f70c5bdc-d1cc-4375-fbc4-3c99aef90ae8"
      },
      "source": [
        "ord('5') + ord('2') == 7\n"
      ],
      "execution_count": null,
      "outputs": [
        {
          "output_type": "execute_result",
          "data": {
            "text/plain": [
              "False"
            ]
          },
          "metadata": {
            "tags": []
          },
          "execution_count": 4
        }
      ]
    },
    {
      "cell_type": "code",
      "metadata": {
        "id": "_WLTT-R5HZr2",
        "colab": {
          "base_uri": "https://localhost:8080/"
        },
        "outputId": "21668a06-d3ab-4d28-f444-5aff98c93c2a"
      },
      "source": [
        "(lambda: lambda: lambda: lambda: lambda: 1)()()()()()"
      ],
      "execution_count": null,
      "outputs": [
        {
          "output_type": "execute_result",
          "data": {
            "text/plain": [
              "1"
            ]
          },
          "metadata": {
            "tags": []
          },
          "execution_count": 5
        }
      ]
    },
    {
      "cell_type": "code",
      "metadata": {
        "id": "4lpmyiTIHjAF",
        "colab": {
          "base_uri": "https://localhost:8080/",
          "height": 129
        },
        "outputId": "94f3da94-3578-4c61-c390-a3d846ea5ed1"
      },
      "source": [
        "(lambda: 1 + lambda: 1 + lambda: 1)()()()"
      ],
      "execution_count": null,
      "outputs": [
        {
          "output_type": "error",
          "ename": "SyntaxError",
          "evalue": "ignored",
          "traceback": [
            "\u001b[0;36m  File \u001b[0;32m\"<ipython-input-6-749bbfb8d141>\"\u001b[0;36m, line \u001b[0;32m1\u001b[0m\n\u001b[0;31m    (lambda: 1 + lambda: 1 + lambda: 1)()()()\u001b[0m\n\u001b[0m                      ^\u001b[0m\n\u001b[0;31mSyntaxError\u001b[0m\u001b[0;31m:\u001b[0m invalid syntax\n"
          ]
        }
      ]
    },
    {
      "cell_type": "code",
      "metadata": {
        "id": "UAGQ84a0HofG",
        "colab": {
          "base_uri": "https://localhost:8080/"
        },
        "outputId": "5962ca85-f886-45d9-8928-04c59bfbaf17"
      },
      "source": [
        "(lambda: 1 + (lambda: 1 + (lambda: 1)())())()"
      ],
      "execution_count": null,
      "outputs": [
        {
          "output_type": "execute_result",
          "data": {
            "text/plain": [
              "3"
            ]
          },
          "metadata": {
            "tags": []
          },
          "execution_count": 7
        }
      ]
    },
    {
      "cell_type": "code",
      "metadata": {
        "id": "UzVqo0mrHvpN",
        "colab": {
          "base_uri": "https://localhost:8080/"
        },
        "outputId": "351de3c9-dfbb-475f-8b86-b6ff5662ed64"
      },
      "source": [
        "def f(n):\n",
        "    x, y = -n, -n\n",
        "    return x is y\n",
        "print(f(0), f(5), f(10))"
      ],
      "execution_count": null,
      "outputs": [
        {
          "output_type": "stream",
          "text": [
            "True True False\n"
          ],
          "name": "stdout"
        }
      ]
    },
    {
      "cell_type": "code",
      "metadata": {
        "id": "bKpg4wCGIGJ-",
        "colab": {
          "base_uri": "https://localhost:8080/"
        },
        "outputId": "f7a1753e-25b2-449c-e47a-ed65cb56f1f1"
      },
      "source": [
        "print(2 ^ 3)"
      ],
      "execution_count": null,
      "outputs": [
        {
          "output_type": "stream",
          "text": [
            "1\n"
          ],
          "name": "stdout"
        }
      ]
    },
    {
      "cell_type": "code",
      "metadata": {
        "id": "0-iTVJG-JRTx",
        "colab": {
          "base_uri": "https://localhost:8080/"
        },
        "outputId": "49557972-b53e-4971-91b9-3f7a40ff945f"
      },
      "source": [
        "from itertools import product\n",
        "a = [1, 2]\n",
        "b = [3, 4]\n",
        "sum(sum(product(a, b), (0, 0)))"
      ],
      "execution_count": null,
      "outputs": [
        {
          "output_type": "execute_result",
          "data": {
            "text/plain": [
              "20"
            ]
          },
          "metadata": {
            "tags": []
          },
          "execution_count": 11
        }
      ]
    },
    {
      "cell_type": "code",
      "metadata": {
        "id": "O1iZ8N4-LIaH",
        "colab": {
          "base_uri": "https://localhost:8080/"
        },
        "outputId": "5698fb5b-96b3-49ac-d08b-71460946199f"
      },
      "source": [
        "def f(x):\n",
        "    try:\n",
        "        print('1', end=\" \")\n",
        "        y = 1 * 0 if x % 2 else 1 / 0\n",
        "    except:\n",
        "        y = 0\n",
        "        print('2', end=\" \")\n",
        "    else:\n",
        "        print('3', end=\" \")\n",
        "    finally:\n",
        "        print('4', end=\" \")\n",
        "    return y\n",
        "\n",
        "print(f(1) + f(2))"
      ],
      "execution_count": null,
      "outputs": [
        {
          "output_type": "stream",
          "text": [
            "1 3 4 1 2 4 0\n"
          ],
          "name": "stdout"
        }
      ]
    },
    {
      "cell_type": "code",
      "metadata": {
        "id": "Foc_dwDwLoJv",
        "colab": {
          "base_uri": "https://localhost:8080/"
        },
        "outputId": "5e1065d6-1368-430b-8264-483af1fe532e"
      },
      "source": [
        "class A:\n",
        "    def __init__(self, x=0):\n",
        "        self.x = x\n",
        "    def f(self):\n",
        "        print(self.x)\n",
        "a = A(2020)\n",
        "f = a.f\n",
        "print(f.__self__ is a, end=\" \")\n",
        "print(f.__func__ is f, end=\" \")\n",
        "print(f.__func__ is a.f, end=\" \")\n",
        "print(f.__func__ is A.f, end=\" \")"
      ],
      "execution_count": null,
      "outputs": [
        {
          "output_type": "stream",
          "text": [
            "True False False True "
          ],
          "name": "stdout"
        }
      ]
    },
    {
      "cell_type": "code",
      "metadata": {
        "id": "F6GlqaqNL4CP",
        "colab": {
          "base_uri": "https://localhost:8080/"
        },
        "outputId": "79db0566-c4c8-4bd0-9c44-dee1edcdf073"
      },
      "source": [
        "import numpy as np\n",
        "print(np.asarray([100, 200, 300]).astype(np.int8))"
      ],
      "execution_count": null,
      "outputs": [
        {
          "output_type": "stream",
          "text": [
            "[100 -56  44]\n"
          ],
          "name": "stdout"
        }
      ]
    },
    {
      "cell_type": "code",
      "metadata": {
        "id": "OlYzyKauML93",
        "colab": {
          "base_uri": "https://localhost:8080/"
        },
        "outputId": "07c3e38c-5dd2-494f-b035-7c1b9debd365"
      },
      "source": [
        "print(np.uint8(1 - 2))"
      ],
      "execution_count": null,
      "outputs": [
        {
          "output_type": "stream",
          "text": [
            "255\n"
          ],
          "name": "stdout"
        }
      ]
    },
    {
      "cell_type": "code",
      "metadata": {
        "id": "S25BQuOGMq8n",
        "colab": {
          "base_uri": "https://localhost:8080/"
        },
        "outputId": "9bf3595d-70c7-4163-f3d7-56c38feeb206"
      },
      "source": [
        "A = np.arange(9).reshape(-1, 3)\n",
        "print(np.linalg.det(A))"
      ],
      "execution_count": null,
      "outputs": [
        {
          "output_type": "stream",
          "text": [
            "0.0\n"
          ],
          "name": "stdout"
        }
      ]
    },
    {
      "cell_type": "code",
      "metadata": {
        "id": "kcIvk3hINS63",
        "colab": {
          "base_uri": "https://localhost:8080/"
        },
        "outputId": "4630e2d3-da7b-4acb-d0a2-d7fe18bf5068"
      },
      "source": [
        "a= int(input())\n",
        "b= int(input())\n",
        "c= int(input())\n",
        "d = int(input())\n",
        "print()\n",
        "\n",
        "\n",
        "for i in range(a, b+1):\n",
        "  print(' ', i, end=' ')\n",
        "  print(i*j, end=' ')\n",
        "  # for \n",
        "  # print(' ', j, end=' ')\n",
        "print()\n",
        "# for j in range(c, d+1):\n",
        "#   print(j, end='\\n')\n",
        "# print()\n",
        "\n",
        "\n",
        "\n",
        "# for i in range(a, b+1):\n",
        "#   print(' ', i, end=' ')\n",
        "# print()\n",
        "# for j in range(c, d+1):\n",
        "#   print(j, end='\\n')\n",
        "  # print(' ', i, end=' ')\n",
        "  # print(' ', i, end=' ')\n",
        "  # for j in range(c, d+1):\n",
        "  #   # print()\n",
        "  #   print(j, end=' ')\n",
        "  # # print(i * j, end=' ')"
      ],
      "execution_count": null,
      "outputs": [
        {
          "output_type": "stream",
          "text": [
            "1\n",
            "4\n",
            "6\n",
            "9\n",
            "\n",
            "  1 9   2 18   3 27   4 36 \n"
          ],
          "name": "stdout"
        }
      ]
    },
    {
      "cell_type": "code",
      "metadata": {
        "id": "aI4dkRcesDy4",
        "colab": {
          "base_uri": "https://localhost:8080/"
        },
        "outputId": "4134292b-27c5-4aef-8276-812ed5838c6a"
      },
      "source": [
        "4494433343634\n",
        "619"
      ],
      "execution_count": null,
      "outputs": [
        {
          "output_type": "execute_result",
          "data": {
            "text/plain": [
              "619"
            ]
          },
          "metadata": {
            "tags": []
          },
          "execution_count": 42
        }
      ]
    },
    {
      "cell_type": "markdown",
      "metadata": {
        "id": "2JdrT_x0M9mL"
      },
      "source": [
        "Когда Павел учился в школе, он запоминал таблицу умножения прямоугольными блоками. Для тренировок ему бы очень пригодилась программа, которая показывала бы блок таблицы умножения.\n",
        "\n",
        "Напишите программу, на вход которой даются четыре числа aa, bb, cc и dd, каждое в своей строке. Программа должна вывести фрагмент таблицы умножения для всех чисел отрезка [a; b][a;b] на все числа отрезка [c;d][c;d].\n",
        "\n",
        "Числа aa, bb, cc и dd являются натуральными и не превосходят 10, a \\le ba≤b, c \\le dc≤d.\n",
        "\n",
        "Следуйте формату вывода из примера, для разделения элементов внутри строки используйте '\\t' — символ табуляции. Заметьте, что левым столбцом и верхней строкой выводятся сами числа из заданных отрезков — заголовочные столбец и строка таблицы."
      ]
    },
    {
      "cell_type": "code",
      "metadata": {
        "id": "PNQfIoH6v3ha",
        "colab": {
          "base_uri": "https://localhost:8080/"
        },
        "outputId": "8d7381cd-1cb9-4308-a74b-9f048a12168e"
      },
      "source": [
        "a =int (input())\n",
        "b =int (input())\n",
        "c =int (input())\n",
        "d =int (input())\n",
        "for g in range (c, d+1):\n",
        "    print('\\t', g, end='')\n",
        "print()\n",
        "# for i in range (a,b+1):\n",
        "#     print(i, '\\t',end='')\n",
        "#     for j in range (c, d+1):\n",
        "#         print(i * j, end='\\t')\n",
        "#     print()"
      ],
      "execution_count": null,
      "outputs": [
        {
          "output_type": "stream",
          "text": [
            "1\n",
            "4\n",
            "6\n",
            "9\n",
            "\t 6\t 7\t 8\t 9\n"
          ],
          "name": "stdout"
        }
      ]
    },
    {
      "cell_type": "code",
      "metadata": {
        "id": "HPtVQknCyHI4"
      },
      "source": [
        "a, b, c, d = (int(input()) for x in range(4))\n",
        "print('', *range(c,d+1), sep='\\t')\n",
        "for x in range(a, b+1):\n",
        "    print(x, *[y*x for y in range(c, d+1)], sep='\\t')"
      ],
      "execution_count": null,
      "outputs": []
    },
    {
      "cell_type": "code",
      "metadata": {
        "id": "7_SkN7KfMKvA",
        "colab": {
          "base_uri": "https://localhost:8080/"
        },
        "outputId": "497da8ea-2b3a-46b5-a941-4e1936ba19c8"
      },
      "source": [
        "# вывод чисел в одной строке\n",
        "# вводить через пробел\n",
        "a, b = (int(i) for i in input().split())"
      ],
      "execution_count": null,
      "outputs": [
        {
          "output_type": "stream",
          "text": [
            "1 10\n"
          ],
          "name": "stdout"
        }
      ]
    },
    {
      "cell_type": "markdown",
      "metadata": {
        "id": "Eu4XVZdjNIIw"
      },
      "source": [
        "Напишите программу, которая считывает с клавиатуры два числа aa и bb, считает и выводит на консоль среднее арифметическое всех чисел из отрезка [a; b][a;b], которые кратны числу 33.\n",
        "\n",
        "В приведенном ниже примере среднее арифметическое считается для чисел на отрезке [-5; 12][−5;12]. Всего чисел, делящихся на 33, на этом отрезке 66: -3, 0, 3, 6, 9, 12−3,0,3,6,9,12. Их среднее арифметическое равно 4.54.5\n",
        "\n",
        "На вход программе подаются интервалы, внутри которых всегда есть хотя бы одно число, которое делится на 33."
      ]
    },
    {
      "cell_type": "code",
      "metadata": {
        "id": "FnC4B-U0MdzR",
        "colab": {
          "base_uri": "https://localhost:8080/"
        },
        "outputId": "e7af74b7-95c3-4548-db07-c19eeebf60f9"
      },
      "source": [
        "a = int(input())\n",
        "b = int(input())\n",
        "s = 0\n",
        "m = 0\n",
        "for x in range(a, b+1):\n",
        "  if x % 3 == 0:\n",
        "    m += 1\n",
        "    s += x\n",
        "print(s/m)\n",
        "\n",
        "# a,b = int(input()), int(input())\n",
        "# a += -a%3\n",
        "# b -= b%3\n",
        "# print((a+b)/2)\n",
        "\n",
        "# x = [x for x in range(int(input()),int(input()) + 1) if x % 3 == 0]\n",
        "# print(sum(x)/len(x))  "
      ],
      "execution_count": null,
      "outputs": [
        {
          "output_type": "stream",
          "text": [
            "5\n",
            "12\n",
            "9.0\n"
          ],
          "name": "stdout"
        }
      ]
    },
    {
      "cell_type": "code",
      "metadata": {
        "id": "H72y7qSjOZKo"
      },
      "source": [
        "# var[0] -> 'H' - только первый символ\n",
        "# var[1:] -> 'ello!' - все символы начиная со второго\n",
        "# var[:3] -> 'Hell' - все символы до четвертого\n",
        "# var[1:4] -> 'ello' - символы со второго по пятый\n",
        "# var[::] -> 'Hello!' - выведутся все символы\n",
        "# var[::2] -> 'Hlo' - здесь выбирается каджый второй символ строки, т.е. 0й 2й и 4й\n",
        "# var[::-1] -> '!olleH'- выведутся все символы, но с шагом -1 - каждый символ, но в обратном порядке.\n"
      ],
      "execution_count": null,
      "outputs": []
    },
    {
      "cell_type": "markdown",
      "metadata": {
        "id": "12B7c_nthKpM"
      },
      "source": [
        "Например, в строке \"acggtgttat\" процентное содержание символов G и C равно \\dfrac4{10} \\cdot 100 = 40.0 \n",
        "10\n",
        "4\n",
        "​\t\n",
        " ⋅100=40.0, где 4 -- это количество символов G и C,  а 10 -- это длина строки."
      ]
    },
    {
      "cell_type": "code",
      "metadata": {
        "id": "0RsED-WkeQvx",
        "colab": {
          "base_uri": "https://localhost:8080/"
        },
        "outputId": "14802cec-04da-4385-fab2-dea56f4ac9f3"
      },
      "source": [
        "a = input()\n",
        "print((a.upper().count('c'.upper()) + a.upper().count('g'.upper())) / len(a)  * 100)\n",
        "\n",
        "\n",
        "# s = input().upper()\n",
        "# print((s.count('G') + s.count('C'))/len(s) * 100)"
      ],
      "execution_count": null,
      "outputs": [
        {
          "output_type": "stream",
          "text": [
            "апавпвыапавып\n",
            "0.0\n"
          ],
          "name": "stdout"
        }
      ]
    },
    {
      "cell_type": "markdown",
      "metadata": {
        "id": "czW8q8nulHDj"
      },
      "source": [
        "Узнав, что ДНК не является случайной строкой, только что поступившие в Институт биоинформатики студенты группы информатиков предложили использовать алгоритм сжатия, который сжимает повторяющиеся символы в строке.\n",
        "\n",
        "Кодирование осуществляется следующим образом:\n",
        "s = 'aaaabbсaa' преобразуется в 'a4b2с1a2', то есть группы одинаковых символов исходной строки заменяются на этот символ и количество его повторений в этой позиции строки.\n",
        "\n",
        "Напишите программу, которая считывает строку, кодирует её предложенным алгоритмом и выводит закодированную последовательность на стандартный вывод. Кодирование должно учитывать регистр символов."
      ]
    },
    {
      "cell_type": "code",
      "metadata": {
        "id": "V6leOjMeihdN"
      },
      "source": [
        "a = input()"
      ],
      "execution_count": null,
      "outputs": []
    }
  ]
}